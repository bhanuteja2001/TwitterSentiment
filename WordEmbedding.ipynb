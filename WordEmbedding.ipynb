{
  "nbformat": 4,
  "nbformat_minor": 0,
  "metadata": {
    "colab": {
      "name": "WordEmbedding.ipynb",
      "provenance": [],
      "authorship_tag": "ABX9TyPvgb1n4hEpQY1CYMrMv0ub",
      "include_colab_link": true
    },
    "kernelspec": {
      "name": "python3",
      "display_name": "Python 3"
    }
  },
  "cells": [
    {
      "cell_type": "markdown",
      "metadata": {
        "id": "view-in-github",
        "colab_type": "text"
      },
      "source": [
        "<a href=\"https://colab.research.google.com/github/bhanuteja2001/TwitterSentiment/blob/main/WordEmbedding.ipynb\" target=\"_parent\"><img src=\"https://colab.research.google.com/assets/colab-badge.svg\" alt=\"Open In Colab\"/></a>"
      ]
    },
    {
      "cell_type": "markdown",
      "metadata": {
        "id": "yzqiSbxhgXcm"
      },
      "source": [
        "https://towardsdatascience.com/text-classification-with-nlp-tf-idf-vs-word2vec-vs-bert-41ff868d1794"
      ]
    },
    {
      "cell_type": "code",
      "metadata": {
        "colab": {
          "base_uri": "https://localhost:8080/"
        },
        "id": "uCJIW1w1c5s0",
        "outputId": "a3d159b2-db87-4e5c-d3d6-ba7353d74a60"
      },
      "source": [
        "from google.colab import drive\r\n",
        "drive.mount('/content/drive')"
      ],
      "execution_count": 1,
      "outputs": [
        {
          "output_type": "stream",
          "text": [
            "Mounted at /content/drive\n"
          ],
          "name": "stdout"
        }
      ]
    },
    {
      "cell_type": "code",
      "metadata": {
        "id": "oiaTyYRIc9IK"
      },
      "source": [
        "import pandas as pd\r\n",
        "import numpy as np\r\n",
        "import nltk\r\n",
        "from nltk.stem import WordNetLemmatizer\r\n",
        "from nltk.corpus import stopwords\r\n",
        "import re"
      ],
      "execution_count": 2,
      "outputs": []
    },
    {
      "cell_type": "code",
      "metadata": {
        "id": "Q54QPuh2hHWz"
      },
      "source": [
        "from tensorflow.keras import models, layers, preprocessing as kprocessing\r\n",
        "from tensorflow.keras import backend as K"
      ],
      "execution_count": 18,
      "outputs": []
    },
    {
      "cell_type": "code",
      "metadata": {
        "id": "uD-V86rigb7Y"
      },
      "source": [
        "import matplotlib.pyplot as plt\r\n",
        "import seaborn as sns\r\n",
        "\r\n",
        "from sklearn import feature_extraction, model_selection, naive_bayes, pipeline, manifold, preprocessing"
      ],
      "execution_count": 15,
      "outputs": []
    },
    {
      "cell_type": "code",
      "metadata": {
        "id": "NzTBNnThe-AA"
      },
      "source": [
        "import gensim\r\n",
        "import gensim.downloader as gensim_api\r\n",
        "#from lime import lime_text"
      ],
      "execution_count": 6,
      "outputs": []
    },
    {
      "cell_type": "code",
      "metadata": {
        "colab": {
          "base_uri": "https://localhost:8080/",
          "height": 204
        },
        "id": "vJDRsvp9dPlg",
        "outputId": "12d307fe-8b0a-44a6-de78-48f3ae61b91d"
      },
      "source": [
        "Train = pd.read_csv('/content/drive/MyDrive/Twitter Sentiment/train_E6oV3lV.csv')\r\n",
        "Train.head()"
      ],
      "execution_count": 3,
      "outputs": [
        {
          "output_type": "execute_result",
          "data": {
            "text/html": [
              "<div>\n",
              "<style scoped>\n",
              "    .dataframe tbody tr th:only-of-type {\n",
              "        vertical-align: middle;\n",
              "    }\n",
              "\n",
              "    .dataframe tbody tr th {\n",
              "        vertical-align: top;\n",
              "    }\n",
              "\n",
              "    .dataframe thead th {\n",
              "        text-align: right;\n",
              "    }\n",
              "</style>\n",
              "<table border=\"1\" class=\"dataframe\">\n",
              "  <thead>\n",
              "    <tr style=\"text-align: right;\">\n",
              "      <th></th>\n",
              "      <th>id</th>\n",
              "      <th>label</th>\n",
              "      <th>tweet</th>\n",
              "    </tr>\n",
              "  </thead>\n",
              "  <tbody>\n",
              "    <tr>\n",
              "      <th>0</th>\n",
              "      <td>1</td>\n",
              "      <td>0</td>\n",
              "      <td>@user when a father is dysfunctional and is s...</td>\n",
              "    </tr>\n",
              "    <tr>\n",
              "      <th>1</th>\n",
              "      <td>2</td>\n",
              "      <td>0</td>\n",
              "      <td>@user @user thanks for #lyft credit i can't us...</td>\n",
              "    </tr>\n",
              "    <tr>\n",
              "      <th>2</th>\n",
              "      <td>3</td>\n",
              "      <td>0</td>\n",
              "      <td>bihday your majesty</td>\n",
              "    </tr>\n",
              "    <tr>\n",
              "      <th>3</th>\n",
              "      <td>4</td>\n",
              "      <td>0</td>\n",
              "      <td>#model   i love u take with u all the time in ...</td>\n",
              "    </tr>\n",
              "    <tr>\n",
              "      <th>4</th>\n",
              "      <td>5</td>\n",
              "      <td>0</td>\n",
              "      <td>factsguide: society now    #motivation</td>\n",
              "    </tr>\n",
              "  </tbody>\n",
              "</table>\n",
              "</div>"
            ],
            "text/plain": [
              "   id  label                                              tweet\n",
              "0   1      0   @user when a father is dysfunctional and is s...\n",
              "1   2      0  @user @user thanks for #lyft credit i can't us...\n",
              "2   3      0                                bihday your majesty\n",
              "3   4      0  #model   i love u take with u all the time in ...\n",
              "4   5      0             factsguide: society now    #motivation"
            ]
          },
          "metadata": {
            "tags": []
          },
          "execution_count": 3
        }
      ]
    },
    {
      "cell_type": "code",
      "metadata": {
        "colab": {
          "base_uri": "https://localhost:8080/",
          "height": 204
        },
        "id": "5qo0-NUSdSsQ",
        "outputId": "2a4cd781-3c73-44aa-da3f-210184d241da"
      },
      "source": [
        "Test = pd.read_csv('/content/drive/MyDrive/Twitter Sentiment/test_tweets_anuFYb8.csv')\r\n",
        "Test.head()"
      ],
      "execution_count": 4,
      "outputs": [
        {
          "output_type": "execute_result",
          "data": {
            "text/html": [
              "<div>\n",
              "<style scoped>\n",
              "    .dataframe tbody tr th:only-of-type {\n",
              "        vertical-align: middle;\n",
              "    }\n",
              "\n",
              "    .dataframe tbody tr th {\n",
              "        vertical-align: top;\n",
              "    }\n",
              "\n",
              "    .dataframe thead th {\n",
              "        text-align: right;\n",
              "    }\n",
              "</style>\n",
              "<table border=\"1\" class=\"dataframe\">\n",
              "  <thead>\n",
              "    <tr style=\"text-align: right;\">\n",
              "      <th></th>\n",
              "      <th>id</th>\n",
              "      <th>tweet</th>\n",
              "    </tr>\n",
              "  </thead>\n",
              "  <tbody>\n",
              "    <tr>\n",
              "      <th>0</th>\n",
              "      <td>31963</td>\n",
              "      <td>#studiolife #aislife #requires #passion #dedic...</td>\n",
              "    </tr>\n",
              "    <tr>\n",
              "      <th>1</th>\n",
              "      <td>31964</td>\n",
              "      <td>@user #white #supremacists want everyone to s...</td>\n",
              "    </tr>\n",
              "    <tr>\n",
              "      <th>2</th>\n",
              "      <td>31965</td>\n",
              "      <td>safe ways to heal your #acne!!    #altwaystohe...</td>\n",
              "    </tr>\n",
              "    <tr>\n",
              "      <th>3</th>\n",
              "      <td>31966</td>\n",
              "      <td>is the hp and the cursed child book up for res...</td>\n",
              "    </tr>\n",
              "    <tr>\n",
              "      <th>4</th>\n",
              "      <td>31967</td>\n",
              "      <td>3rd #bihday to my amazing, hilarious #nephew...</td>\n",
              "    </tr>\n",
              "  </tbody>\n",
              "</table>\n",
              "</div>"
            ],
            "text/plain": [
              "      id                                              tweet\n",
              "0  31963  #studiolife #aislife #requires #passion #dedic...\n",
              "1  31964   @user #white #supremacists want everyone to s...\n",
              "2  31965  safe ways to heal your #acne!!    #altwaystohe...\n",
              "3  31966  is the hp and the cursed child book up for res...\n",
              "4  31967    3rd #bihday to my amazing, hilarious #nephew..."
            ]
          },
          "metadata": {
            "tags": []
          },
          "execution_count": 4
        }
      ]
    },
    {
      "cell_type": "code",
      "metadata": {
        "colab": {
          "base_uri": "https://localhost:8080/"
        },
        "id": "9BbXcL7JdVE_",
        "outputId": "f9bdda48-a3ad-43c7-b27b-4eb668530a70"
      },
      "source": [
        "nlp = gensim_api.load(\"glove-twitter-25\")"
      ],
      "execution_count": 7,
      "outputs": [
        {
          "output_type": "stream",
          "text": [
            "[==================================================] 100.0% 104.8/104.8MB downloaded\n"
          ],
          "name": "stdout"
        }
      ]
    },
    {
      "cell_type": "code",
      "metadata": {
        "id": "oWI63Ba7fCq-"
      },
      "source": [
        "corpus = Train['tweet']\r\n",
        "\r\n",
        "## create list of lists of unigrams\r\n",
        "lst_corpus = []\r\n",
        "for string in corpus:\r\n",
        "   lst_words = string.split()\r\n",
        "   lst_grams = [\" \".join(lst_words[i:i+1]) \r\n",
        "               for i in range(0, len(lst_words), 1)]\r\n",
        "   lst_corpus.append(lst_grams)\r\n",
        "\r\n",
        "## detect bigrams and trigrams\r\n",
        "bigrams_detector = gensim.models.phrases.Phrases(lst_corpus, \r\n",
        "                 delimiter=\" \".encode(), min_count=5, threshold=10)\r\n",
        "bigrams_detector = gensim.models.phrases.Phraser(bigrams_detector)\r\n",
        "trigrams_detector = gensim.models.phrases.Phrases(bigrams_detector[lst_corpus], \r\n",
        "            delimiter=\" \".encode(), min_count=5, threshold=10)\r\n",
        "trigrams_detector = gensim.models.phrases.Phraser(trigrams_detector)"
      ],
      "execution_count": 8,
      "outputs": []
    },
    {
      "cell_type": "code",
      "metadata": {
        "id": "0W1MNLN0fibx"
      },
      "source": [
        "## fit w2v\r\n",
        "nlp = gensim.models.word2vec.Word2Vec(lst_corpus, size=300,   \r\n",
        "            window=8, min_count=1, sg=1, iter=30)"
      ],
      "execution_count": 11,
      "outputs": []
    },
    {
      "cell_type": "code",
      "metadata": {
        "colab": {
          "base_uri": "https://localhost:8080/",
          "height": 1000
        },
        "id": "iJcvcQxPfy78",
        "outputId": "972856e0-4336-4920-c552-83252241de75"
      },
      "source": [
        "word = \"happy\"\r\n",
        "fig = plt.figure()\r\n",
        "## word embedding\r\n",
        "tot_words = [word] + [tupla[0] for tupla in \r\n",
        "                 nlp.most_similar(word, topn=20)]\r\n",
        "X = nlp[tot_words]\r\n",
        "## pca to reduce dimensionality from 300 to 3\r\n",
        "pca = manifold.TSNE(perplexity=40, n_components=3, init='pca')\r\n",
        "X = pca.fit_transform(X)\r\n",
        "## create dtf\r\n",
        "dtf_ = pd.DataFrame(X, index=tot_words, columns=[\"x\",\"y\",\"z\"])\r\n",
        "dtf_[\"input\"] = 0\r\n",
        "dtf_[\"input\"].iloc[0:1] = 1\r\n",
        "## plot 3d\r\n",
        "from mpl_toolkits.mplot3d import Axes3D\r\n",
        "ax = fig.add_subplot(111, projection='3d')\r\n",
        "ax.scatter(dtf_[dtf_[\"input\"]==0]['x'], \r\n",
        "           dtf_[dtf_[\"input\"]==0]['y'], \r\n",
        "           dtf_[dtf_[\"input\"]==0]['z'], c=\"black\")\r\n",
        "ax.scatter(dtf_[dtf_[\"input\"]==1]['x'], \r\n",
        "           dtf_[dtf_[\"input\"]==1]['y'], \r\n",
        "           dtf_[dtf_[\"input\"]==1]['z'], c=\"red\")\r\n",
        "ax.set(xlabel=None, ylabel=None, zlabel=None, xticklabels=[], \r\n",
        "       yticklabels=[], zticklabels=[])\r\n",
        "for label, row in dtf_[[\"x\",\"y\",\"z\"]].iterrows():\r\n",
        "    x, y, z = row\r\n",
        "    ax.text(x, y, z, s=label)"
      ],
      "execution_count": 16,
      "outputs": [
        {
          "output_type": "stream",
          "text": [
            "/usr/local/lib/python3.6/dist-packages/ipykernel_launcher.py:5: DeprecationWarning: Call to deprecated `most_similar` (Method will be removed in 4.0.0, use self.wv.most_similar() instead).\n",
            "  \"\"\"\n",
            "/usr/local/lib/python3.6/dist-packages/ipykernel_launcher.py:6: DeprecationWarning: Call to deprecated `__getitem__` (Method will be removed in 4.0.0, use self.wv.__getitem__() instead).\n",
            "  \n",
            "/usr/local/lib/python3.6/dist-packages/pandas/core/indexing.py:670: SettingWithCopyWarning: \n",
            "A value is trying to be set on a copy of a slice from a DataFrame\n",
            "\n",
            "See the caveats in the documentation: https://pandas.pydata.org/pandas-docs/stable/user_guide/indexing.html#returning-a-view-versus-a-copy\n",
            "  iloc._setitem_with_indexer(indexer, value)\n",
            "/usr/local/lib/python3.6/dist-packages/matplotlib/backends/backend_agg.py:214: RuntimeWarning: Glyph 156 missing from current font.\n",
            "  font.set_text(s, 0.0, flags=flags)\n",
            "/usr/local/lib/python3.6/dist-packages/matplotlib/backends/backend_agg.py:214: RuntimeWarning: Glyph 140 missing from current font.\n",
            "  font.set_text(s, 0.0, flags=flags)\n",
            "/usr/local/lib/python3.6/dist-packages/matplotlib/backends/backend_agg.py:214: RuntimeWarning: Glyph 159 missing from current font.\n",
            "  font.set_text(s, 0.0, flags=flags)\n",
            "/usr/local/lib/python3.6/dist-packages/matplotlib/backends/backend_agg.py:214: RuntimeWarning: Glyph 150 missing from current font.\n",
            "  font.set_text(s, 0.0, flags=flags)\n",
            "/usr/local/lib/python3.6/dist-packages/matplotlib/backends/backend_agg.py:214: RuntimeWarning: Glyph 144 missing from current font.\n",
            "  font.set_text(s, 0.0, flags=flags)\n",
            "/usr/local/lib/python3.6/dist-packages/matplotlib/backends/backend_agg.py:214: RuntimeWarning: Glyph 145 missing from current font.\n",
            "  font.set_text(s, 0.0, flags=flags)\n",
            "/usr/local/lib/python3.6/dist-packages/matplotlib/backends/backend_agg.py:214: RuntimeWarning: Glyph 128 missing from current font.\n",
            "  font.set_text(s, 0.0, flags=flags)\n",
            "/usr/local/lib/python3.6/dist-packages/matplotlib/backends/backend_agg.py:214: RuntimeWarning: Glyph 152 missing from current font.\n",
            "  font.set_text(s, 0.0, flags=flags)\n",
            "/usr/local/lib/python3.6/dist-packages/matplotlib/backends/backend_agg.py:214: RuntimeWarning: Glyph 130 missing from current font.\n",
            "  font.set_text(s, 0.0, flags=flags)\n",
            "/usr/local/lib/python3.6/dist-packages/matplotlib/backends/backend_agg.py:214: RuntimeWarning: Glyph 143 missing from current font.\n",
            "  font.set_text(s, 0.0, flags=flags)\n",
            "/usr/local/lib/python3.6/dist-packages/matplotlib/backends/backend_agg.py:214: RuntimeWarning: Glyph 129 missing from current font.\n",
            "  font.set_text(s, 0.0, flags=flags)\n",
            "/usr/local/lib/python3.6/dist-packages/matplotlib/backends/backend_agg.py:183: RuntimeWarning: Glyph 156 missing from current font.\n",
            "  font.set_text(s, 0, flags=flags)\n",
            "/usr/local/lib/python3.6/dist-packages/matplotlib/backends/backend_agg.py:183: RuntimeWarning: Glyph 140 missing from current font.\n",
            "  font.set_text(s, 0, flags=flags)\n",
            "/usr/local/lib/python3.6/dist-packages/matplotlib/backends/backend_agg.py:183: RuntimeWarning: Glyph 159 missing from current font.\n",
            "  font.set_text(s, 0, flags=flags)\n",
            "/usr/local/lib/python3.6/dist-packages/matplotlib/backends/backend_agg.py:183: RuntimeWarning: Glyph 150 missing from current font.\n",
            "  font.set_text(s, 0, flags=flags)\n",
            "/usr/local/lib/python3.6/dist-packages/matplotlib/backends/backend_agg.py:183: RuntimeWarning: Glyph 144 missing from current font.\n",
            "  font.set_text(s, 0, flags=flags)\n",
            "/usr/local/lib/python3.6/dist-packages/matplotlib/backends/backend_agg.py:183: RuntimeWarning: Glyph 145 missing from current font.\n",
            "  font.set_text(s, 0, flags=flags)\n",
            "/usr/local/lib/python3.6/dist-packages/matplotlib/backends/backend_agg.py:183: RuntimeWarning: Glyph 128 missing from current font.\n",
            "  font.set_text(s, 0, flags=flags)\n",
            "/usr/local/lib/python3.6/dist-packages/matplotlib/backends/backend_agg.py:183: RuntimeWarning: Glyph 152 missing from current font.\n",
            "  font.set_text(s, 0, flags=flags)\n",
            "/usr/local/lib/python3.6/dist-packages/matplotlib/backends/backend_agg.py:183: RuntimeWarning: Glyph 130 missing from current font.\n",
            "  font.set_text(s, 0, flags=flags)\n",
            "/usr/local/lib/python3.6/dist-packages/matplotlib/backends/backend_agg.py:183: RuntimeWarning: Glyph 143 missing from current font.\n",
            "  font.set_text(s, 0, flags=flags)\n",
            "/usr/local/lib/python3.6/dist-packages/matplotlib/backends/backend_agg.py:183: RuntimeWarning: Glyph 129 missing from current font.\n",
            "  font.set_text(s, 0, flags=flags)\n",
            "/usr/local/lib/python3.6/dist-packages/matplotlib/backends/backend_agg.py:214: RuntimeWarning: Glyph 153 missing from current font.\n",
            "  font.set_text(s, 0.0, flags=flags)\n",
            "/usr/local/lib/python3.6/dist-packages/matplotlib/backends/backend_agg.py:183: RuntimeWarning: Glyph 153 missing from current font.\n",
            "  font.set_text(s, 0, flags=flags)\n"
          ],
          "name": "stderr"
        },
        {
          "output_type": "display_data",
          "data": {
            "image/png": "[encoded data removed]",
            "text/plain": [
              "<Figure size 432x288 with 1 Axes>"
            ]
          },
          "metadata": {
            "tags": [],
            "needs_background": "light"
          }
        }
      ]
    },
    {
      "cell_type": "code",
      "metadata": {
        "id": "oOLWom1Xgagy"
      },
      "source": [
        "## tokenize text\r\n",
        "tokenizer = kprocessing.text.Tokenizer(lower=True, split=' ', \r\n",
        "                     oov_token=\"NaN\", \r\n",
        "                     filters='!\"#$%&()*+,-./:;<=>?@[\\\\]^_`{|}~\\t\\n')\r\n",
        "tokenizer.fit_on_texts(lst_corpus)\r\n",
        "dic_vocabulary = tokenizer.word_index\r\n",
        "\r\n",
        "## create sequence\r\n",
        "lst_text2seq= tokenizer.texts_to_sequences(lst_corpus)\r\n",
        "## padding sequence\r\n",
        "X_train = kprocessing.sequence.pad_sequences(lst_text2seq, \r\n",
        "                    maxlen=15, padding=\"post\", truncating=\"post\")"
      ],
      "execution_count": 19,
      "outputs": []
    },
    {
      "cell_type": "code",
      "metadata": {
        "colab": {
          "base_uri": "https://localhost:8080/",
          "height": 269
        },
        "id": "wWEm_WZbhJCd",
        "outputId": "488c4a0c-d6c3-4604-bbf6-e189e56f4891"
      },
      "source": [
        "sns.heatmap(X_train==0, vmin=0, vmax=1, cbar=False)\r\n",
        "plt.show()"
      ],
      "execution_count": 20,
      "outputs": [
        {
          "output_type": "display_data",
          "data": {
            "image/png": "[encoded data removed]",
            "text/plain": [
              "<Figure size 432x288 with 1 Axes>"
            ]
          },
          "metadata": {
            "tags": [],
            "needs_background": "light"
          }
        }
      ]
    },
    {
      "cell_type": "code",
      "metadata": {
        "colab": {
          "base_uri": "https://localhost:8080/"
        },
        "id": "-XFFxru-hNlq",
        "outputId": "64aed531-4c50-4a7f-9ae6-4c1806b9a32c"
      },
      "source": [
        "i = 0\r\n",
        "\r\n",
        "## list of text: [\"I like this\", ...]\r\n",
        "len_txt = len(Train[\"tweet\"].iloc[i].split())\r\n",
        "print(\"from: \", Train[\"tweet\"].iloc[i], \"| len:\", len_txt)\r\n",
        "\r\n",
        "## sequence of token ids: [[1, 2, 3], ...]\r\n",
        "len_tokens = len(X_train[i])\r\n",
        "print(\"to: \", X_train[i], \"| len:\", len(X_train[i]))\r\n",
        "\r\n",
        "## vocabulary: {\"I\":1, \"like\":2, \"this\":3, ...}\r\n",
        "print(\"check: \", Train[\"tweet\"].iloc[i].split()[0], \r\n",
        "      \" -- idx in vocabulary -->\", \r\n",
        "      dic_vocabulary[Train[\"tweet\"].iloc[i].split()[0]])\r\n",
        "\r\n",
        "print(\"vocabulary: \", dict(list(dic_vocabulary.items())[0:5]), \"... (padding element, 0)\")"
      ],
      "execution_count": 24,
      "outputs": [
        {
          "output_type": "stream",
          "text": [
            "from:   @user when a father is dysfunctional and is so selfish he drags his kids into his dysfunction.   #run | len: 18\n",
            "to:  [    2    34     5   418    12 21346     8    12    19  7415    92  7416\n",
            "    91   368   225] | len: 15\n",
            "check:  @user  -- idx in vocabulary --> 2\n",
            "vocabulary:  {'NaN': 1, '@user': 2, 'the': 3, 'to': 4, 'a': 5} ... (padding element, 0)\n"
          ],
          "name": "stdout"
        }
      ]
    },
    {
      "cell_type": "code",
      "metadata": {
        "id": "SN1Wju4aijyb"
      },
      "source": [
        "corpus = Test[\"tweet\"]\r\n",
        "\r\n",
        "## create list of n-grams\r\n",
        "lst_corpus = []\r\n",
        "for string in corpus:\r\n",
        "    lst_words = string.split()\r\n",
        "    lst_grams = [\" \".join(lst_words[i:i+1]) for i in range(0, \r\n",
        "                 len(lst_words), 1)]\r\n",
        "    lst_corpus.append(lst_grams)\r\n",
        "    \r\n",
        "## detect common bigrams and trigrams using the fitted detectors\r\n",
        "lst_corpus = list(bigrams_detector[lst_corpus])\r\n",
        "lst_corpus = list(trigrams_detector[lst_corpus])\r\n",
        "## text to sequence with the fitted tokenizer\r\n",
        "lst_text2seq = tokenizer.texts_to_sequences(lst_corpus)\r\n",
        "\r\n",
        "## padding sequence\r\n",
        "X_test = kprocessing.sequence.pad_sequences(lst_text2seq, maxlen=15,\r\n",
        "             padding=\"post\", truncating=\"post\")"
      ],
      "execution_count": 26,
      "outputs": []
    },
    {
      "cell_type": "code",
      "metadata": {
        "colab": {
          "base_uri": "https://localhost:8080/"
        },
        "id": "CTmp0O0fivHB",
        "outputId": "806954af-11a5-4e99-d464-7ab419e40a33"
      },
      "source": [
        "## start the matrix (length of vocabulary x vector size) with all 0s\r\n",
        "embeddings = np.zeros((len(dic_vocabulary)+1, 300))\r\n",
        "for word,idx in dic_vocabulary.items():\r\n",
        "    ## update the row with vector\r\n",
        "    try:\r\n",
        "        embeddings[idx] =  nlp[word]\r\n",
        "    ## if word not in model then skip and the row stays all 0s\r\n",
        "    except:\r\n",
        "        pass"
      ],
      "execution_count": 27,
      "outputs": [
        {
          "output_type": "stream",
          "text": [
            "/usr/local/lib/python3.6/dist-packages/ipykernel_launcher.py:6: DeprecationWarning: Call to deprecated `__getitem__` (Method will be removed in 4.0.0, use self.wv.__getitem__() instead).\n",
            "  \n"
          ],
          "name": "stderr"
        }
      ]
    },
    {
      "cell_type": "code",
      "metadata": {
        "colab": {
          "base_uri": "https://localhost:8080/"
        },
        "id": "y7tk8rWpiz-o",
        "outputId": "b0aa410f-1d66-4ef6-89d5-6a277656799b"
      },
      "source": [
        "word = \"happy\"\r\n",
        "print(\"dic[word]:\", dic_vocabulary[word], \"|idx\")\r\n",
        "print(\"embeddings[idx]:\", embeddings[dic_vocabulary[word]].shape, \r\n",
        "      \"|vector\")"
      ],
      "execution_count": 28,
      "outputs": [
        {
          "output_type": "stream",
          "text": [
            "dic[word]: 30 |idx\n",
            "embeddings[idx]: (300,) |vector\n"
          ],
          "name": "stdout"
        }
      ]
    },
    {
      "cell_type": "code",
      "metadata": {
        "id": "_8WvunRAi3qt"
      },
      "source": [
        "## code attention layer\r\n",
        "def attention_layer(inputs, neurons):\r\n",
        "    x = layers.Permute((2,1))(inputs)\r\n",
        "    x = layers.Dense(neurons, activation=\"softmax\")(x)\r\n",
        "    x = layers.Permute((2,1), name=\"attention\")(x)\r\n",
        "    x = layers.multiply([inputs, x])\r\n",
        "    return x\r\n",
        "\r\n",
        "## input\r\n",
        "x_in = layers.Input(shape=(15,))\r\n",
        "## embedding\r\n",
        "x = layers.Embedding(input_dim=embeddings.shape[0],  \r\n",
        "                     output_dim=embeddings.shape[1], \r\n",
        "                     weights=[embeddings],\r\n",
        "                     input_length=15, trainable=False)(x_in)\r\n",
        "## apply attention\r\n",
        "x = attention_layer(x, neurons=15)\r\n",
        "\r\n",
        "## 2 layers of bidirectional lstm\r\n",
        "x = layers.Bidirectional(layers.LSTM(units=15, dropout=0.2, \r\n",
        "                         return_sequences=True))(x)\r\n",
        "x = layers.Bidirectional(layers.LSTM(units=15, dropout=0.2))(x)\r\n",
        "## final dense layers\r\n",
        "x = layers.Dense(64, activation='relu')(x)\r\n",
        "y_out = layers.Dense(3, activation='softmax')(x)\r\n",
        "## compile\r\n",
        "model = models.Model(x_in, y_out)\r\n",
        "model.compile(loss='sparse_categorical_crossentropy',\r\n",
        "              optimizer='adam', metrics=['accuracy'])\r\n",
        "\r\n",
        "#model.summary()"
      ],
      "execution_count": 29,
      "outputs": []
    },
    {
      "cell_type": "code",
      "metadata": {
        "id": "JjpmUigkjFUs"
      },
      "source": [
        "y_train = Train['label']"
      ],
      "execution_count": 31,
      "outputs": []
    },
    {
      "cell_type": "code",
      "metadata": {
        "colab": {
          "base_uri": "https://localhost:8080/",
          "height": 295
        },
        "id": "sLbrJ_Fsi-Ks",
        "outputId": "f6416d26-5b13-44fd-a9ae-d4cb09c0ae09"
      },
      "source": [
        "## encode y\r\n",
        "dic_y_mapping = {n:label for n,label in \r\n",
        "                 enumerate(np.unique(y_train))}\r\n",
        "inverse_dic = {v:k for k,v in dic_y_mapping.items()}\r\n",
        "y_train = np.array([inverse_dic[y] for y in y_train])\r\n",
        "## train\r\n",
        "training = model.fit(x=X_train, y=y_train, batch_size=256, \r\n",
        "                     epochs=10, shuffle=True, verbose=0, \r\n",
        "                     validation_split=0.3)\r\n",
        "## plot loss and accuracy\r\n",
        "metrics = [k for k in training.history.keys() if (\"loss\" not in k) and (\"val\" not in k)]\r\n",
        "fig, ax = plt.subplots(nrows=1, ncols=2, sharey=True)\r\n",
        "ax[0].set(title=\"Training\")\r\n",
        "ax11 = ax[0].twinx()\r\n",
        "ax[0].plot(training.history['loss'], color='black')\r\n",
        "ax[0].set_xlabel('Epochs')\r\n",
        "ax[0].set_ylabel('Loss', color='black')\r\n",
        "for metric in metrics:\r\n",
        "    ax11.plot(training.history[metric], label=metric)\r\n",
        "ax11.set_ylabel(\"Score\", color='steelblue')\r\n",
        "ax11.legend()\r\n",
        "\r\n",
        "ax[1].set(title=\"Validation\")\r\n",
        "ax22 = ax[1].twinx()\r\n",
        "ax[1].plot(training.history['val_loss'], color='black')\r\n",
        "ax[1].set_xlabel('Epochs')\r\n",
        "ax[1].set_ylabel('Loss', color='black')\r\n",
        "for metric in metrics:\r\n",
        "     ax22.plot(training.history['val_'+metric], label=metric)\r\n",
        "ax22.set_ylabel(\"Score\", color=\"steelblue\")\r\n",
        "plt.show()"
      ],
      "execution_count": 32,
      "outputs": [
        {
          "output_type": "display_data",
          "data": {
            "image/png": "[encoded data removed]",
            "text/plain": [
              "<Figure size 432x288 with 4 Axes>"
            ]
          },
          "metadata": {
            "tags": [],
            "needs_background": "light"
          }
        }
      ]
    },
    {
      "cell_type": "code",
      "metadata": {
        "id": "78vCZ60vjDHn"
      },
      "source": [
        "predicted_prob = model.predict(X_test)"
      ],
      "execution_count": 33,
      "outputs": []
    },
    {
      "cell_type": "code",
      "metadata": {
        "id": "RQVRVB_pj8nC"
      },
      "source": [
        "predicted = [dic_y_mapping[np.argmax(pred)] for pred in \r\n",
        "             predicted_prob]\r\n",
        "predicted"
      ],
      "execution_count": null,
      "outputs": []
    },
    {
      "cell_type": "code",
      "metadata": {
        "id": "AHMepcOtkSEg"
      },
      "source": [
        "submit = pd.read_csv('/content/drive/MyDrive/Twitter Sentiment/sample_submission_gfvA5FD.csv')\r\n",
        "submit.drop('label', axis=1, inplace=True)"
      ],
      "execution_count": 37,
      "outputs": []
    },
    {
      "cell_type": "code",
      "metadata": {
        "id": "LqdgXtMykJcc"
      },
      "source": [
        "submit['label'] = predicted"
      ],
      "execution_count": 40,
      "outputs": []
    },
    {
      "cell_type": "code",
      "metadata": {
        "colab": {
          "base_uri": "https://localhost:8080/"
        },
        "id": "942nsPQOka9r",
        "outputId": "68bd958e-4f08-4007-a821-b05d88d02464"
      },
      "source": [
        "submit.label.value_counts(\r\n",
        "    \r\n",
        ")"
      ],
      "execution_count": 41,
      "outputs": [
        {
          "output_type": "execute_result",
          "data": {
            "text/plain": [
              "0    16781\n",
              "1      416\n",
              "Name: label, dtype: int64"
            ]
          },
          "metadata": {
            "tags": []
          },
          "execution_count": 41
        }
      ]
    },
    {
      "cell_type": "code",
      "metadata": {
        "colab": {
          "base_uri": "https://localhost:8080/",
          "height": 17
        },
        "id": "TVRQHTrAkh9b",
        "outputId": "0c4e0bf0-c9da-4bd6-bd74-5e7db28f1700"
      },
      "source": [
        "from google.colab import files\r\n",
        "#res = pd.DataFrame(L) \r\n",
        "#res.columns = [\"prediction\"]\r\n",
        "submit.to_csv('prediction_results_wordemb.csv',index=False)         \r\n",
        "files.download('prediction_results_wordemb.csv')"
      ],
      "execution_count": 42,
      "outputs": [
        {
          "output_type": "display_data",
          "data": {
            "application/javascript": [
              "\n",
              "    async function download(id, filename, size) {\n",
              "      if (!google.colab.kernel.accessAllowed) {\n",
              "        return;\n",
              "      }\n",
              "      const div = document.createElement('div');\n",
              "      const label = document.createElement('label');\n",
              "      label.textContent = `Downloading \"${filename}\": `;\n",
              "      div.appendChild(label);\n",
              "      const progress = document.createElement('progress');\n",
              "      progress.max = size;\n",
              "      div.appendChild(progress);\n",
              "      document.body.appendChild(div);\n",
              "\n",
              "      const buffers = [];\n",
              "      let downloaded = 0;\n",
              "\n",
              "      const channel = await google.colab.kernel.comms.open(id);\n",
              "      // Send a message to notify the kernel that we're ready.\n",
              "      channel.send({})\n",
              "\n",
              "      for await (const message of channel.messages) {\n",
              "        // Send a message to notify the kernel that we're ready.\n",
              "        channel.send({})\n",
              "        if (message.buffers) {\n",
              "          for (const buffer of message.buffers) {\n",
              "            buffers.push(buffer);\n",
              "            downloaded += buffer.byteLength;\n",
              "            progress.value = downloaded;\n",
              "          }\n",
              "        }\n",
              "      }\n",
              "      const blob = new Blob(buffers, {type: 'application/binary'});\n",
              "      const a = document.createElement('a');\n",
              "      a.href = window.URL.createObjectURL(blob);\n",
              "      a.download = filename;\n",
              "      div.appendChild(a);\n",
              "      a.click();\n",
              "      div.remove();\n",
              "    }\n",
              "  "
            ],
            "text/plain": [
              "<IPython.core.display.Javascript object>"
            ]
          },
          "metadata": {
            "tags": []
          }
        },
        {
          "output_type": "display_data",
          "data": {
            "application/javascript": [
              "download(\"download_74c51f0b-1907-44fa-9b76-031a8e44cafa\", \"prediction_results_wordemb.csv\", 137585)"
            ],
            "text/plain": [
              "<IPython.core.display.Javascript object>"
            ]
          },
          "metadata": {
            "tags": []
          }
        }
      ]
    },
    {
      "cell_type": "code",
      "metadata": {
        "id": "_KitWaZikodj"
      },
      "source": [
        ""
      ],
      "execution_count": null,
      "outputs": []
    }
  ]
}